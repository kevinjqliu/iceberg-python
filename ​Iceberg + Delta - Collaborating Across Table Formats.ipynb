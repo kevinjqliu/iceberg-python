{
 "cells": [
  {
   "cell_type": "code",
   "execution_count": 1,
   "id": "21198d92-af68-4f4c-baf5-2c70d7da60fa",
   "metadata": {},
   "outputs": [
    {
     "data": {
      "text/plain": [
       "'\\nCompacting Iceberg table with Delta (delta-rs)\\n* Generate some parquet files\\n* Create an Iceberg table with parquet files\\n* Create a Delta table with parquet files\\n* Compact parquet files with Delta library\\n* Replace data files in Iceberg\\n'"
      ]
     },
     "execution_count": 1,
     "metadata": {},
     "output_type": "execute_result"
    }
   ],
   "source": [
    "\"\"\"\n",
    "Compacting Iceberg table with Delta (delta-rs)\n",
    "* Generate some parquet files\n",
    "* Create an Iceberg table with parquet files\n",
    "* Create a Delta table with parquet files\n",
    "* Compact parquet files with Delta library\n",
    "* Replace data files in Iceberg\n",
    "\"\"\""
   ]
  },
  {
   "cell_type": "code",
   "execution_count": 2,
   "id": "3332903a-f28e-4542-9ba5-bea8ae3ca682",
   "metadata": {},
   "outputs": [
    {
     "name": "stdout",
     "output_type": "stream",
     "text": [
      "\n",
      "\u001b[1m[\u001b[0m\u001b[34;49mnotice\u001b[0m\u001b[1;39;49m]\u001b[0m\u001b[39;49m A new release of pip is available: \u001b[0m\u001b[31;49m24.3.1\u001b[0m\u001b[39;49m -> \u001b[0m\u001b[32;49m25.0.1\u001b[0m\n",
      "\u001b[1m[\u001b[0m\u001b[34;49mnotice\u001b[0m\u001b[1;39;49m]\u001b[0m\u001b[39;49m To update, run: \u001b[0m\u001b[32;49mpip install --upgrade pip\u001b[0m\n",
      "\n",
      "\u001b[1m[\u001b[0m\u001b[34;49mnotice\u001b[0m\u001b[1;39;49m]\u001b[0m\u001b[39;49m A new release of pip is available: \u001b[0m\u001b[31;49m24.3.1\u001b[0m\u001b[39;49m -> \u001b[0m\u001b[32;49m25.0.1\u001b[0m\n",
      "\u001b[1m[\u001b[0m\u001b[34;49mnotice\u001b[0m\u001b[1;39;49m]\u001b[0m\u001b[39;49m To update, run: \u001b[0m\u001b[32;49mpip install --upgrade pip\u001b[0m\n",
      "\n",
      "\u001b[1m[\u001b[0m\u001b[34;49mnotice\u001b[0m\u001b[1;39;49m]\u001b[0m\u001b[39;49m A new release of pip is available: \u001b[0m\u001b[31;49m24.3.1\u001b[0m\u001b[39;49m -> \u001b[0m\u001b[32;49m25.0.1\u001b[0m\n",
      "\u001b[1m[\u001b[0m\u001b[34;49mnotice\u001b[0m\u001b[1;39;49m]\u001b[0m\u001b[39;49m To update, run: \u001b[0m\u001b[32;49mpip install --upgrade pip\u001b[0m\n",
      "\n",
      "\u001b[1m[\u001b[0m\u001b[34;49mnotice\u001b[0m\u001b[1;39;49m]\u001b[0m\u001b[39;49m A new release of pip is available: \u001b[0m\u001b[31;49m24.3.1\u001b[0m\u001b[39;49m -> \u001b[0m\u001b[32;49m25.0.1\u001b[0m\n",
      "\u001b[1m[\u001b[0m\u001b[34;49mnotice\u001b[0m\u001b[1;39;49m]\u001b[0m\u001b[39;49m To update, run: \u001b[0m\u001b[32;49mpip install --upgrade pip\u001b[0m\n"
     ]
    }
   ],
   "source": [
    "# install libraries\n",
    "!pip install deltalake -q\n",
    "!pip install 'pyiceberg[sql-sqlite]==0.9.0rc2' -q\n",
    "!pip install duckdb -q\n",
    "!pip install pyarrow -q"
   ]
  },
  {
   "cell_type": "code",
   "execution_count": 3,
   "id": "adc6ecf2-b1c8-4763-ab74-b9dfb36000ee",
   "metadata": {},
   "outputs": [],
   "source": [
    "# configure jupyter\n",
    "import pandas as pd\n",
    "import pyarrow as pa\n",
    "import pyarrow.parquet as pq\n",
    "import duckdb\n",
    "import os\n",
    "from deltalake import convert_to_deltalake, DeltaTable\n",
    "import json\n",
    "from pprint import pprint\n",
    "\n",
    "# Set the display option to show all columns and rows\n",
    "pd.set_option('display.max_columns', None)  # Show all columns\n",
    "pd.set_option('display.max_rows', None)     # Show all rows\n",
    "pd.set_option('display.max_colwidth', None) # Show full content in each cell"
   ]
  },
  {
   "cell_type": "code",
   "execution_count": 4,
   "id": "808f0e3c-42c7-4ad9-a693-b26d5ec2f49d",
   "metadata": {},
   "outputs": [
    {
     "name": "stdout",
     "output_type": "stream",
     "text": [
      "\u001b[1;36mwarehouse\u001b[0m\n",
      "\n",
      "0 directories, 0 files\n"
     ]
    }
   ],
   "source": [
    "# use local filesystem as warehouse, can also use object store\n",
    "warehouse = \"./warehouse\"\n",
    "!rm -rf warehouse\n",
    "!mkdir warehouse\n",
    "!tree warehouse"
   ]
  },
  {
   "cell_type": "code",
   "execution_count": 5,
   "id": "a593ad12-f9ec-4adb-9d75-9d074bdb00cc",
   "metadata": {},
   "outputs": [
    {
     "name": "stdout",
     "output_type": "stream",
     "text": [
      "CPU times: user 69.7 ms, sys: 8.47 ms, total: 78.2 ms\n",
      "Wall time: 80.1 ms\n"
     ]
    }
   ],
   "source": [
    "%%time\n",
    "# Create some parquet files\n",
    "# 100_000 rows per row group, 1 row group per file\n",
    "# 1_000_000 records == 10 files\n",
    "duckdb_row_num = 1_000_000\n",
    "con = duckdb.connect()\n",
    "duckdb_data_files_df = con.execute(f\"\"\"\n",
    "    COPY (FROM generate_series(1, {duckdb_row_num})) TO 'warehouse'\n",
    "    (\n",
    "        FORMAT 'parquet',\n",
    "        COMPRESSION 'zstd',\n",
    "        ROW_GROUP_SIZE 100_000,\n",
    "        ROW_GROUPS_PER_FILE 1,\n",
    "        OVERWRITE true,\n",
    "        PER_THREAD_OUTPUT true,\n",
    "        RETURN_FILES true\n",
    "    )\"\"\").df()"
   ]
  },
  {
   "cell_type": "code",
   "execution_count": 6,
   "id": "c021ee3d-ac44-45aa-aba7-bfb1449a1bed",
   "metadata": {},
   "outputs": [
    {
     "name": "stdout",
     "output_type": "stream",
     "text": [
      "Dump as parquet files:\n",
      "warehouse/data_0.parquet\n",
      "warehouse/data_1.parquet\n",
      "warehouse/data_2.parquet\n",
      "warehouse/data_3.parquet\n",
      "warehouse/data_4.parquet\n",
      "warehouse/data_5.parquet\n",
      "warehouse/data_6.parquet\n",
      "warehouse/data_7.parquet\n",
      "warehouse/data_8.parquet\n",
      "warehouse/data_9.parquet\n"
     ]
    }
   ],
   "source": [
    "print(\"Dump as parquet files:\")\n",
    "duckdb_data_files = duckdb_data_files_df['Files'].iloc[0].tolist()\n",
    "for data_file in duckdb_data_files:\n",
    "    print(data_file)"
   ]
  },
  {
   "cell_type": "code",
   "execution_count": 7,
   "id": "09cc8663-8686-419b-99a5-d46c3fdc1dce",
   "metadata": {},
   "outputs": [
    {
     "name": "stdout",
     "output_type": "stream",
     "text": [
      "\u001b[1;36mwarehouse/\u001b[0m\n",
      "├── data_0.parquet\n",
      "├── data_1.parquet\n",
      "├── data_2.parquet\n",
      "├── data_3.parquet\n",
      "├── data_4.parquet\n",
      "├── data_5.parquet\n",
      "├── data_6.parquet\n",
      "├── data_7.parquet\n",
      "├── data_8.parquet\n",
      "└── data_9.parquet\n",
      "\n",
      "1 directory, 10 files\n"
     ]
    }
   ],
   "source": [
    "# here are the parquet files we generated\n",
    "!tree warehouse/"
   ]
  },
  {
   "cell_type": "code",
   "execution_count": 8,
   "id": "c4820687-1b9a-4ca0-a360-03655aba6f09",
   "metadata": {},
   "outputs": [
    {
     "name": "stdout",
     "output_type": "stream",
     "text": [
      "Adding data files ['warehouse/data_0.parquet', 'warehouse/data_1.parquet', 'warehouse/data_2.parquet', 'warehouse/data_3.parquet', 'warehouse/data_4.parquet', 'warehouse/data_5.parquet', 'warehouse/data_6.parquet', 'warehouse/data_7.parquet', 'warehouse/data_8.parquet', 'warehouse/data_9.parquet']\n"
     ]
    }
   ],
   "source": [
    "# create an Iceberg table\n",
    "from pyiceberg.catalog import load_catalog\n",
    "catalog = load_catalog(\"default\", **{\"uri\": \"sqlite:///:memory:\", \"warehouse\": f\"file://{warehouse}\"})\n",
    "namespace, table = \"foo\", \"bar\"\n",
    "table_identifier = (namespace, table)\n",
    "schema = pq.read_schema(duckdb_data_files[0])\n",
    "catalog.create_namespace_if_not_exists(namespace)\n",
    "with catalog.create_table_transaction(identifier=table_identifier, schema=schema) as txn:\n",
    "    print(f\"Adding data files {duckdb_data_files}\")\n",
    "    txn.add_files([os.path.abspath(data_file) for data_file in duckdb_data_files])"
   ]
  },
  {
   "cell_type": "code",
   "execution_count": 9,
   "id": "a69e5c27-bb7c-40bd-9c4c-9d852bf1c52e",
   "metadata": {},
   "outputs": [
    {
     "name": "stdout",
     "output_type": "stream",
     "text": [
      "iceberg records=1000000\n",
      "Iceberg data files:\n",
      "/Users/kevinliu/repos/iceberg-python/warehouse/data_0.parquet\n",
      "/Users/kevinliu/repos/iceberg-python/warehouse/data_1.parquet\n",
      "/Users/kevinliu/repos/iceberg-python/warehouse/data_2.parquet\n",
      "/Users/kevinliu/repos/iceberg-python/warehouse/data_3.parquet\n",
      "/Users/kevinliu/repos/iceberg-python/warehouse/data_4.parquet\n",
      "/Users/kevinliu/repos/iceberg-python/warehouse/data_5.parquet\n",
      "/Users/kevinliu/repos/iceberg-python/warehouse/data_6.parquet\n",
      "/Users/kevinliu/repos/iceberg-python/warehouse/data_7.parquet\n",
      "/Users/kevinliu/repos/iceberg-python/warehouse/data_8.parquet\n",
      "/Users/kevinliu/repos/iceberg-python/warehouse/data_9.parquet\n"
     ]
    }
   ],
   "source": [
    "# check the same number of records\n",
    "iceberg_table = catalog.load_table(table_identifier)\n",
    "iceberg_row_num = iceberg_table.scan().count()\n",
    "print(f\"iceberg records={iceberg_row_num}\")\n",
    "assert duckdb_row_num == iceberg_row_num\n",
    "\n",
    "# get the data files from iceberg\n",
    "print(\"Iceberg data files:\")\n",
    "iceberg_data_files = iceberg_table.inspect.files().to_pydict()['file_path']\n",
    "for data_file in iceberg_data_files:\n",
    "    print(data_file)"
   ]
  },
  {
   "cell_type": "code",
   "execution_count": 10,
   "id": "98753fbd-fd05-4b29-a744-6e68ad388df4",
   "metadata": {},
   "outputs": [
    {
     "name": "stdout",
     "output_type": "stream",
     "text": [
      "\u001b[1;36mwarehouse/\u001b[0m\n",
      "├── data_0.parquet\n",
      "├── data_1.parquet\n",
      "├── data_2.parquet\n",
      "├── data_3.parquet\n",
      "├── data_4.parquet\n",
      "├── data_5.parquet\n",
      "├── data_6.parquet\n",
      "├── data_7.parquet\n",
      "├── data_8.parquet\n",
      "├── data_9.parquet\n",
      "└── \u001b[1;36mfoo.db\u001b[0m\n",
      "    └── \u001b[1;36mbar\u001b[0m\n",
      "        └── \u001b[1;36mmetadata\u001b[0m\n",
      "            ├── 00000-5165b4bf-26e5-408c-8bd5-197f807bd99a.metadata.json\n",
      "            ├── 611f72cf-6486-430c-bd92-d6691be98c19-m0.avro\n",
      "            └── snap-1222512222308558805-0-611f72cf-6486-430c-bd92-d6691be98c19.avro\n",
      "\n",
      "4 directories, 13 files\n"
     ]
    }
   ],
   "source": [
    "!tree warehouse/"
   ]
  },
  {
   "cell_type": "code",
   "execution_count": 11,
   "id": "639e45b6-ce60-4281-a1d0-f3a7996585c2",
   "metadata": {},
   "outputs": [],
   "source": [
    "# create a delta table, convert the existing parquet dataset to delta\n",
    "# writes `_delta_log`, returns None\n",
    "convert_to_deltalake(\n",
    "    uri=warehouse\n",
    ")"
   ]
  },
  {
   "cell_type": "code",
   "execution_count": 12,
   "id": "1a510184-e3a7-41ff-bfec-263006fe84e0",
   "metadata": {},
   "outputs": [
    {
     "name": "stdout",
     "output_type": "stream",
     "text": [
      "\u001b[1;36mwarehouse\u001b[0m\n",
      "├── \u001b[1;36m_delta_log\u001b[0m\n",
      "│   └── 00000000000000000000.json\n",
      "├── data_0.parquet\n",
      "├── data_1.parquet\n",
      "├── data_2.parquet\n",
      "├── data_3.parquet\n",
      "├── data_4.parquet\n",
      "├── data_5.parquet\n",
      "├── data_6.parquet\n",
      "├── data_7.parquet\n",
      "├── data_8.parquet\n",
      "├── data_9.parquet\n",
      "└── \u001b[1;36mfoo.db\u001b[0m\n",
      "    └── \u001b[1;36mbar\u001b[0m\n",
      "        └── \u001b[1;36mmetadata\u001b[0m\n",
      "            ├── 00000-5165b4bf-26e5-408c-8bd5-197f807bd99a.metadata.json\n",
      "            ├── 611f72cf-6486-430c-bd92-d6691be98c19-m0.avro\n",
      "            └── snap-1222512222308558805-0-611f72cf-6486-430c-bd92-d6691be98c19.avro\n",
      "\n",
      "5 directories, 14 files\n"
     ]
    }
   ],
   "source": [
    "!tree warehouse"
   ]
  },
  {
   "cell_type": "code",
   "execution_count": 13,
   "id": "d604999d-539c-46bb-96e1-3532eba38a24",
   "metadata": {
    "scrolled": true
   },
   "outputs": [
    {
     "name": "stdout",
     "output_type": "stream",
     "text": [
      "\u001b[1;37m{\n",
      "  \u001b[0m\u001b[34;1m\"protocol\"\u001b[0m\u001b[1;37m: \u001b[0m\u001b[1;37m{\n",
      "    \u001b[0m\u001b[34;1m\"minReaderVersion\"\u001b[0m\u001b[1;37m: \u001b[0m\u001b[0;37m1\u001b[0m\u001b[1;37m,\n",
      "    \u001b[0m\u001b[34;1m\"minWriterVersion\"\u001b[0m\u001b[1;37m: \u001b[0m\u001b[0;37m2\u001b[0m\u001b[1;37m\n",
      "  \u001b[1;37m}\u001b[0m\u001b[1;37m\n",
      "\u001b[1;37m}\u001b[0m\n",
      "\u001b[1;37m{\n",
      "  \u001b[0m\u001b[34;1m\"metaData\"\u001b[0m\u001b[1;37m: \u001b[0m\u001b[1;37m{\n",
      "    \u001b[0m\u001b[34;1m\"id\"\u001b[0m\u001b[1;37m: \u001b[0m\u001b[0;32m\"a704b337-7354-42ac-baa0-7b3f680e3005\"\u001b[0m\u001b[1;37m,\n",
      "    \u001b[0m\u001b[34;1m\"name\"\u001b[0m\u001b[1;37m: \u001b[0m\u001b[1;30mnull\u001b[0m\u001b[1;37m,\n",
      "    \u001b[0m\u001b[34;1m\"description\"\u001b[0m\u001b[1;37m: \u001b[0m\u001b[1;30mnull\u001b[0m\u001b[1;37m,\n",
      "    \u001b[0m\u001b[34;1m\"format\"\u001b[0m\u001b[1;37m: \u001b[0m\u001b[1;37m{\n",
      "      \u001b[0m\u001b[34;1m\"provider\"\u001b[0m\u001b[1;37m: \u001b[0m\u001b[0;32m\"parquet\"\u001b[0m\u001b[1;37m,\n",
      "      \u001b[0m\u001b[34;1m\"options\"\u001b[0m\u001b[1;37m: \u001b[0m\u001b[1;37m{}\u001b[0m\u001b[1;37m\n",
      "    \u001b[1;37m}\u001b[0m\u001b[1;37m,\n",
      "    \u001b[0m\u001b[34;1m\"schemaString\"\u001b[0m\u001b[1;37m: \u001b[0m\u001b[0;32m\"{\\\"type\\\":\\\"struct\\\",\\\"fields\\\":[{\\\"name\\\":\\\"generate_series\\\",\\\"type\\\":\\\"long\\\",\\\"nullable\\\":true,\\\"metadata\\\":{}}]}\"\u001b[0m\u001b[1;37m,\n",
      "    \u001b[0m\u001b[34;1m\"partitionColumns\"\u001b[0m\u001b[1;37m: \u001b[0m\u001b[1;37m[]\u001b[0m\u001b[1;37m,\n",
      "    \u001b[0m\u001b[34;1m\"createdTime\"\u001b[0m\u001b[1;37m: \u001b[0m\u001b[0;37m1740519685627\u001b[0m\u001b[1;37m,\n",
      "    \u001b[0m\u001b[34;1m\"configuration\"\u001b[0m\u001b[1;37m: \u001b[0m\u001b[1;37m{}\u001b[0m\u001b[1;37m\n",
      "  \u001b[1;37m}\u001b[0m\u001b[1;37m\n",
      "\u001b[1;37m}\u001b[0m\n",
      "\u001b[1;37m{\n",
      "  \u001b[0m\u001b[34;1m\"add\"\u001b[0m\u001b[1;37m: \u001b[0m\u001b[1;37m{\n",
      "    \u001b[0m\u001b[34;1m\"path\"\u001b[0m\u001b[1;37m: \u001b[0m\u001b[0;32m\"data_4.parquet\"\u001b[0m\u001b[1;37m,\n",
      "    \u001b[0m\u001b[34;1m\"partitionValues\"\u001b[0m\u001b[1;37m: \u001b[0m\u001b[1;37m{}\u001b[0m\u001b[1;37m,\n",
      "    \u001b[0m\u001b[34;1m\"size\"\u001b[0m\u001b[1;37m: \u001b[0m\u001b[0;37m102160\u001b[0m\u001b[1;37m,\n",
      "    \u001b[0m\u001b[34;1m\"modificationTime\"\u001b[0m\u001b[1;37m: \u001b[0m\u001b[0;37m1740519684565\u001b[0m\u001b[1;37m,\n",
      "    \u001b[0m\u001b[34;1m\"dataChange\"\u001b[0m\u001b[1;37m: \u001b[0m\u001b[0;37mtrue\u001b[0m\u001b[1;37m,\n",
      "    \u001b[0m\u001b[34;1m\"stats\"\u001b[0m\u001b[1;37m: \u001b[0m\u001b[0;32m\"{\\\"numRecords\\\":100352,\\\"minValues\\\":{\\\"generate_series\\\":401409},\\\"maxValues\\\":{\\\"generate_series\\\":501760},\\\"nullCount\\\":{\\\"generate_series\\\":0}}\"\u001b[0m\u001b[1;37m,\n",
      "    \u001b[0m\u001b[34;1m\"tags\"\u001b[0m\u001b[1;37m: \u001b[0m\u001b[1;30mnull\u001b[0m\u001b[1;37m,\n",
      "    \u001b[0m\u001b[34;1m\"deletionVector\"\u001b[0m\u001b[1;37m: \u001b[0m\u001b[1;30mnull\u001b[0m\u001b[1;37m,\n",
      "    \u001b[0m\u001b[34;1m\"baseRowId\"\u001b[0m\u001b[1;37m: \u001b[0m\u001b[1;30mnull\u001b[0m\u001b[1;37m,\n",
      "    \u001b[0m\u001b[34;1m\"defaultRowCommitVersion\"\u001b[0m\u001b[1;37m: \u001b[0m\u001b[1;30mnull\u001b[0m\u001b[1;37m,\n",
      "    \u001b[0m\u001b[34;1m\"clusteringProvider\"\u001b[0m\u001b[1;37m: \u001b[0m\u001b[1;30mnull\u001b[0m\u001b[1;37m\n",
      "  \u001b[1;37m}\u001b[0m\u001b[1;37m\n",
      "\u001b[1;37m}\u001b[0m\n",
      "\u001b[1;37m{\n",
      "  \u001b[0m\u001b[34;1m\"add\"\u001b[0m\u001b[1;37m: \u001b[0m\u001b[1;37m{\n",
      "    \u001b[0m\u001b[34;1m\"path\"\u001b[0m\u001b[1;37m: \u001b[0m\u001b[0;32m\"data_5.parquet\"\u001b[0m\u001b[1;37m,\n",
      "    \u001b[0m\u001b[34;1m\"partitionValues\"\u001b[0m\u001b[1;37m: \u001b[0m\u001b[1;37m{}\u001b[0m\u001b[1;37m,\n",
      "    \u001b[0m\u001b[34;1m\"size\"\u001b[0m\u001b[1;37m: \u001b[0m\u001b[0;37m102170\u001b[0m\u001b[1;37m,\n",
      "    \u001b[0m\u001b[34;1m\"modificationTime\"\u001b[0m\u001b[1;37m: \u001b[0m\u001b[0;37m1740519684568\u001b[0m\u001b[1;37m,\n",
      "    \u001b[0m\u001b[34;1m\"dataChange\"\u001b[0m\u001b[1;37m: \u001b[0m\u001b[0;37mtrue\u001b[0m\u001b[1;37m,\n",
      "    \u001b[0m\u001b[34;1m\"stats\"\u001b[0m\u001b[1;37m: \u001b[0m\u001b[0;32m\"{\\\"numRecords\\\":100352,\\\"minValues\\\":{\\\"generate_series\\\":501761},\\\"maxValues\\\":{\\\"generate_series\\\":602112},\\\"nullCount\\\":{\\\"generate_series\\\":0}}\"\u001b[0m\u001b[1;37m,\n",
      "    \u001b[0m\u001b[34;1m\"tags\"\u001b[0m\u001b[1;37m: \u001b[0m\u001b[1;30mnull\u001b[0m\u001b[1;37m,\n",
      "    \u001b[0m\u001b[34;1m\"deletionVector\"\u001b[0m\u001b[1;37m: \u001b[0m\u001b[1;30mnull\u001b[0m\u001b[1;37m,\n",
      "    \u001b[0m\u001b[34;1m\"baseRowId\"\u001b[0m\u001b[1;37m: \u001b[0m\u001b[1;30mnull\u001b[0m\u001b[1;37m,\n",
      "    \u001b[0m\u001b[34;1m\"defaultRowCommitVersion\"\u001b[0m\u001b[1;37m: \u001b[0m\u001b[1;30mnull\u001b[0m\u001b[1;37m,\n",
      "    \u001b[0m\u001b[34;1m\"clusteringProvider\"\u001b[0m\u001b[1;37m: \u001b[0m\u001b[1;30mnull\u001b[0m\u001b[1;37m\n",
      "  \u001b[1;37m}\u001b[0m\u001b[1;37m\n",
      "\u001b[1;37m}\u001b[0m\n",
      "\u001b[1;37m{\n",
      "  \u001b[0m\u001b[34;1m\"add\"\u001b[0m\u001b[1;37m: \u001b[0m\u001b[1;37m{\n",
      "    \u001b[0m\u001b[34;1m\"path\"\u001b[0m\u001b[1;37m: \u001b[0m\u001b[0;32m\"data_7.parquet\"\u001b[0m\u001b[1;37m,\n",
      "    \u001b[0m\u001b[34;1m\"partitionValues\"\u001b[0m\u001b[1;37m: \u001b[0m\u001b[1;37m{}\u001b[0m\u001b[1;37m,\n",
      "    \u001b[0m\u001b[34;1m\"size\"\u001b[0m\u001b[1;37m: \u001b[0m\u001b[0;37m102170\u001b[0m\u001b[1;37m,\n",
      "    \u001b[0m\u001b[34;1m\"modificationTime\"\u001b[0m\u001b[1;37m: \u001b[0m\u001b[0;37m1740519684574\u001b[0m\u001b[1;37m,\n",
      "    \u001b[0m\u001b[34;1m\"dataChange\"\u001b[0m\u001b[1;37m: \u001b[0m\u001b[0;37mtrue\u001b[0m\u001b[1;37m,\n",
      "    \u001b[0m\u001b[34;1m\"stats\"\u001b[0m\u001b[1;37m: \u001b[0m\u001b[0;32m\"{\\\"numRecords\\\":100352,\\\"minValues\\\":{\\\"generate_series\\\":702465},\\\"maxValues\\\":{\\\"generate_series\\\":802816},\\\"nullCount\\\":{\\\"generate_series\\\":0}}\"\u001b[0m\u001b[1;37m,\n",
      "    \u001b[0m\u001b[34;1m\"tags\"\u001b[0m\u001b[1;37m: \u001b[0m\u001b[1;30mnull\u001b[0m\u001b[1;37m,\n",
      "    \u001b[0m\u001b[34;1m\"deletionVector\"\u001b[0m\u001b[1;37m: \u001b[0m\u001b[1;30mnull\u001b[0m\u001b[1;37m,\n",
      "    \u001b[0m\u001b[34;1m\"baseRowId\"\u001b[0m\u001b[1;37m: \u001b[0m\u001b[1;30mnull\u001b[0m\u001b[1;37m,\n",
      "    \u001b[0m\u001b[34;1m\"defaultRowCommitVersion\"\u001b[0m\u001b[1;37m: \u001b[0m\u001b[1;30mnull\u001b[0m\u001b[1;37m,\n",
      "    \u001b[0m\u001b[34;1m\"clusteringProvider\"\u001b[0m\u001b[1;37m: \u001b[0m\u001b[1;30mnull\u001b[0m\u001b[1;37m\n",
      "  \u001b[1;37m}\u001b[0m\u001b[1;37m\n",
      "\u001b[1;37m}\u001b[0m\n",
      "\u001b[1;37m{\n",
      "  \u001b[0m\u001b[34;1m\"add\"\u001b[0m\u001b[1;37m: \u001b[0m\u001b[1;37m{\n",
      "    \u001b[0m\u001b[34;1m\"path\"\u001b[0m\u001b[1;37m: \u001b[0m\u001b[0;32m\"data_6.parquet\"\u001b[0m\u001b[1;37m,\n",
      "    \u001b[0m\u001b[34;1m\"partitionValues\"\u001b[0m\u001b[1;37m: \u001b[0m\u001b[1;37m{}\u001b[0m\u001b[1;37m,\n",
      "    \u001b[0m\u001b[34;1m\"size\"\u001b[0m\u001b[1;37m: \u001b[0m\u001b[0;37m102160\u001b[0m\u001b[1;37m,\n",
      "    \u001b[0m\u001b[34;1m\"modificationTime\"\u001b[0m\u001b[1;37m: \u001b[0m\u001b[0;37m1740519684571\u001b[0m\u001b[1;37m,\n",
      "    \u001b[0m\u001b[34;1m\"dataChange\"\u001b[0m\u001b[1;37m: \u001b[0m\u001b[0;37mtrue\u001b[0m\u001b[1;37m,\n",
      "    \u001b[0m\u001b[34;1m\"stats\"\u001b[0m\u001b[1;37m: \u001b[0m\u001b[0;32m\"{\\\"numRecords\\\":100352,\\\"minValues\\\":{\\\"generate_series\\\":602113},\\\"maxValues\\\":{\\\"generate_series\\\":702464},\\\"nullCount\\\":{\\\"generate_series\\\":0}}\"\u001b[0m\u001b[1;37m,\n",
      "    \u001b[0m\u001b[34;1m\"tags\"\u001b[0m\u001b[1;37m: \u001b[0m\u001b[1;30mnull\u001b[0m\u001b[1;37m,\n",
      "    \u001b[0m\u001b[34;1m\"deletionVector\"\u001b[0m\u001b[1;37m: \u001b[0m\u001b[1;30mnull\u001b[0m\u001b[1;37m,\n",
      "    \u001b[0m\u001b[34;1m\"baseRowId\"\u001b[0m\u001b[1;37m: \u001b[0m\u001b[1;30mnull\u001b[0m\u001b[1;37m,\n",
      "    \u001b[0m\u001b[34;1m\"defaultRowCommitVersion\"\u001b[0m\u001b[1;37m: \u001b[0m\u001b[1;30mnull\u001b[0m\u001b[1;37m,\n",
      "    \u001b[0m\u001b[34;1m\"clusteringProvider\"\u001b[0m\u001b[1;37m: \u001b[0m\u001b[1;30mnull\u001b[0m\u001b[1;37m\n",
      "  \u001b[1;37m}\u001b[0m\u001b[1;37m\n",
      "\u001b[1;37m}\u001b[0m\n",
      "\u001b[1;37m{\n",
      "  \u001b[0m\u001b[34;1m\"add\"\u001b[0m\u001b[1;37m: \u001b[0m\u001b[1;37m{\n",
      "    \u001b[0m\u001b[34;1m\"path\"\u001b[0m\u001b[1;37m: \u001b[0m\u001b[0;32m\"data_3.parquet\"\u001b[0m\u001b[1;37m,\n",
      "    \u001b[0m\u001b[34;1m\"partitionValues\"\u001b[0m\u001b[1;37m: \u001b[0m\u001b[1;37m{}\u001b[0m\u001b[1;37m,\n",
      "    \u001b[0m\u001b[34;1m\"size\"\u001b[0m\u001b[1;37m: \u001b[0m\u001b[0;37m102170\u001b[0m\u001b[1;37m,\n",
      "    \u001b[0m\u001b[34;1m\"modificationTime\"\u001b[0m\u001b[1;37m: \u001b[0m\u001b[0;37m1740519684562\u001b[0m\u001b[1;37m,\n",
      "    \u001b[0m\u001b[34;1m\"dataChange\"\u001b[0m\u001b[1;37m: \u001b[0m\u001b[0;37mtrue\u001b[0m\u001b[1;37m,\n",
      "    \u001b[0m\u001b[34;1m\"stats\"\u001b[0m\u001b[1;37m: \u001b[0m\u001b[0;32m\"{\\\"numRecords\\\":100352,\\\"minValues\\\":{\\\"generate_series\\\":301057},\\\"maxValues\\\":{\\\"generate_series\\\":401408},\\\"nullCount\\\":{\\\"generate_series\\\":0}}\"\u001b[0m\u001b[1;37m,\n",
      "    \u001b[0m\u001b[34;1m\"tags\"\u001b[0m\u001b[1;37m: \u001b[0m\u001b[1;30mnull\u001b[0m\u001b[1;37m,\n",
      "    \u001b[0m\u001b[34;1m\"deletionVector\"\u001b[0m\u001b[1;37m: \u001b[0m\u001b[1;30mnull\u001b[0m\u001b[1;37m,\n",
      "    \u001b[0m\u001b[34;1m\"baseRowId\"\u001b[0m\u001b[1;37m: \u001b[0m\u001b[1;30mnull\u001b[0m\u001b[1;37m,\n",
      "    \u001b[0m\u001b[34;1m\"defaultRowCommitVersion\"\u001b[0m\u001b[1;37m: \u001b[0m\u001b[1;30mnull\u001b[0m\u001b[1;37m,\n",
      "    \u001b[0m\u001b[34;1m\"clusteringProvider\"\u001b[0m\u001b[1;37m: \u001b[0m\u001b[1;30mnull\u001b[0m\u001b[1;37m\n",
      "  \u001b[1;37m}\u001b[0m\u001b[1;37m\n",
      "\u001b[1;37m}\u001b[0m\n",
      "\u001b[1;37m{\n",
      "  \u001b[0m\u001b[34;1m\"add\"\u001b[0m\u001b[1;37m: \u001b[0m\u001b[1;37m{\n",
      "    \u001b[0m\u001b[34;1m\"path\"\u001b[0m\u001b[1;37m: \u001b[0m\u001b[0;32m\"data_2.parquet\"\u001b[0m\u001b[1;37m,\n",
      "    \u001b[0m\u001b[34;1m\"partitionValues\"\u001b[0m\u001b[1;37m: \u001b[0m\u001b[1;37m{}\u001b[0m\u001b[1;37m,\n",
      "    \u001b[0m\u001b[34;1m\"size\"\u001b[0m\u001b[1;37m: \u001b[0m\u001b[0;37m102160\u001b[0m\u001b[1;37m,\n",
      "    \u001b[0m\u001b[34;1m\"modificationTime\"\u001b[0m\u001b[1;37m: \u001b[0m\u001b[0;37m1740519684560\u001b[0m\u001b[1;37m,\n",
      "    \u001b[0m\u001b[34;1m\"dataChange\"\u001b[0m\u001b[1;37m: \u001b[0m\u001b[0;37mtrue\u001b[0m\u001b[1;37m,\n",
      "    \u001b[0m\u001b[34;1m\"stats\"\u001b[0m\u001b[1;37m: \u001b[0m\u001b[0;32m\"{\\\"numRecords\\\":100352,\\\"minValues\\\":{\\\"generate_series\\\":200705},\\\"maxValues\\\":{\\\"generate_series\\\":301056},\\\"nullCount\\\":{\\\"generate_series\\\":0}}\"\u001b[0m\u001b[1;37m,\n",
      "    \u001b[0m\u001b[34;1m\"tags\"\u001b[0m\u001b[1;37m: \u001b[0m\u001b[1;30mnull\u001b[0m\u001b[1;37m,\n",
      "    \u001b[0m\u001b[34;1m\"deletionVector\"\u001b[0m\u001b[1;37m: \u001b[0m\u001b[1;30mnull\u001b[0m\u001b[1;37m,\n",
      "    \u001b[0m\u001b[34;1m\"baseRowId\"\u001b[0m\u001b[1;37m: \u001b[0m\u001b[1;30mnull\u001b[0m\u001b[1;37m,\n",
      "    \u001b[0m\u001b[34;1m\"defaultRowCommitVersion\"\u001b[0m\u001b[1;37m: \u001b[0m\u001b[1;30mnull\u001b[0m\u001b[1;37m,\n",
      "    \u001b[0m\u001b[34;1m\"clusteringProvider\"\u001b[0m\u001b[1;37m: \u001b[0m\u001b[1;30mnull\u001b[0m\u001b[1;37m\n",
      "  \u001b[1;37m}\u001b[0m\u001b[1;37m\n",
      "\u001b[1;37m}\u001b[0m\n",
      "\u001b[1;37m{\n",
      "  \u001b[0m\u001b[34;1m\"add\"\u001b[0m\u001b[1;37m: \u001b[0m\u001b[1;37m{\n",
      "    \u001b[0m\u001b[34;1m\"path\"\u001b[0m\u001b[1;37m: \u001b[0m\u001b[0;32m\"data_9.parquet\"\u001b[0m\u001b[1;37m,\n",
      "    \u001b[0m\u001b[34;1m\"partitionValues\"\u001b[0m\u001b[1;37m: \u001b[0m\u001b[1;37m{}\u001b[0m\u001b[1;37m,\n",
      "    \u001b[0m\u001b[34;1m\"size\"\u001b[0m\u001b[1;37m: \u001b[0m\u001b[0;37m98580\u001b[0m\u001b[1;37m,\n",
      "    \u001b[0m\u001b[34;1m\"modificationTime\"\u001b[0m\u001b[1;37m: \u001b[0m\u001b[0;37m1740519684580\u001b[0m\u001b[1;37m,\n",
      "    \u001b[0m\u001b[34;1m\"dataChange\"\u001b[0m\u001b[1;37m: \u001b[0m\u001b[0;37mtrue\u001b[0m\u001b[1;37m,\n",
      "    \u001b[0m\u001b[34;1m\"stats\"\u001b[0m\u001b[1;37m: \u001b[0m\u001b[0;32m\"{\\\"numRecords\\\":96832,\\\"minValues\\\":{\\\"generate_series\\\":903169},\\\"maxValues\\\":{\\\"generate_series\\\":1000000},\\\"nullCount\\\":{\\\"generate_series\\\":0}}\"\u001b[0m\u001b[1;37m,\n",
      "    \u001b[0m\u001b[34;1m\"tags\"\u001b[0m\u001b[1;37m: \u001b[0m\u001b[1;30mnull\u001b[0m\u001b[1;37m,\n",
      "    \u001b[0m\u001b[34;1m\"deletionVector\"\u001b[0m\u001b[1;37m: \u001b[0m\u001b[1;30mnull\u001b[0m\u001b[1;37m,\n",
      "    \u001b[0m\u001b[34;1m\"baseRowId\"\u001b[0m\u001b[1;37m: \u001b[0m\u001b[1;30mnull\u001b[0m\u001b[1;37m,\n",
      "    \u001b[0m\u001b[34;1m\"defaultRowCommitVersion\"\u001b[0m\u001b[1;37m: \u001b[0m\u001b[1;30mnull\u001b[0m\u001b[1;37m,\n",
      "    \u001b[0m\u001b[34;1m\"clusteringProvider\"\u001b[0m\u001b[1;37m: \u001b[0m\u001b[1;30mnull\u001b[0m\u001b[1;37m\n",
      "  \u001b[1;37m}\u001b[0m\u001b[1;37m\n",
      "\u001b[1;37m}\u001b[0m\n",
      "\u001b[1;37m{\n",
      "  \u001b[0m\u001b[34;1m\"add\"\u001b[0m\u001b[1;37m: \u001b[0m\u001b[1;37m{\n",
      "    \u001b[0m\u001b[34;1m\"path\"\u001b[0m\u001b[1;37m: \u001b[0m\u001b[0;32m\"data_0.parquet\"\u001b[0m\u001b[1;37m,\n",
      "    \u001b[0m\u001b[34;1m\"partitionValues\"\u001b[0m\u001b[1;37m: \u001b[0m\u001b[1;37m{}\u001b[0m\u001b[1;37m,\n",
      "    \u001b[0m\u001b[34;1m\"size\"\u001b[0m\u001b[1;37m: \u001b[0m\u001b[0;37m139492\u001b[0m\u001b[1;37m,\n",
      "    \u001b[0m\u001b[34;1m\"modificationTime\"\u001b[0m\u001b[1;37m: \u001b[0m\u001b[0;37m1740519684554\u001b[0m\u001b[1;37m,\n",
      "    \u001b[0m\u001b[34;1m\"dataChange\"\u001b[0m\u001b[1;37m: \u001b[0m\u001b[0;37mtrue\u001b[0m\u001b[1;37m,\n",
      "    \u001b[0m\u001b[34;1m\"stats\"\u001b[0m\u001b[1;37m: \u001b[0m\u001b[0;32m\"{\\\"numRecords\\\":100352,\\\"minValues\\\":{\\\"generate_series\\\":1},\\\"maxValues\\\":{\\\"generate_series\\\":100352},\\\"nullCount\\\":{\\\"generate_series\\\":0}}\"\u001b[0m\u001b[1;37m,\n",
      "    \u001b[0m\u001b[34;1m\"tags\"\u001b[0m\u001b[1;37m: \u001b[0m\u001b[1;30mnull\u001b[0m\u001b[1;37m,\n",
      "    \u001b[0m\u001b[34;1m\"deletionVector\"\u001b[0m\u001b[1;37m: \u001b[0m\u001b[1;30mnull\u001b[0m\u001b[1;37m,\n",
      "    \u001b[0m\u001b[34;1m\"baseRowId\"\u001b[0m\u001b[1;37m: \u001b[0m\u001b[1;30mnull\u001b[0m\u001b[1;37m,\n",
      "    \u001b[0m\u001b[34;1m\"defaultRowCommitVersion\"\u001b[0m\u001b[1;37m: \u001b[0m\u001b[1;30mnull\u001b[0m\u001b[1;37m,\n",
      "    \u001b[0m\u001b[34;1m\"clusteringProvider\"\u001b[0m\u001b[1;37m: \u001b[0m\u001b[1;30mnull\u001b[0m\u001b[1;37m\n",
      "  \u001b[1;37m}\u001b[0m\u001b[1;37m\n",
      "\u001b[1;37m}\u001b[0m\n",
      "\u001b[1;37m{\n",
      "  \u001b[0m\u001b[34;1m\"add\"\u001b[0m\u001b[1;37m: \u001b[0m\u001b[1;37m{\n",
      "    \u001b[0m\u001b[34;1m\"path\"\u001b[0m\u001b[1;37m: \u001b[0m\u001b[0;32m\"data_1.parquet\"\u001b[0m\u001b[1;37m,\n",
      "    \u001b[0m\u001b[34;1m\"partitionValues\"\u001b[0m\u001b[1;37m: \u001b[0m\u001b[1;37m{}\u001b[0m\u001b[1;37m,\n",
      "    \u001b[0m\u001b[34;1m\"size\"\u001b[0m\u001b[1;37m: \u001b[0m\u001b[0;37m102170\u001b[0m\u001b[1;37m,\n",
      "    \u001b[0m\u001b[34;1m\"modificationTime\"\u001b[0m\u001b[1;37m: \u001b[0m\u001b[0;37m1740519684557\u001b[0m\u001b[1;37m,\n",
      "    \u001b[0m\u001b[34;1m\"dataChange\"\u001b[0m\u001b[1;37m: \u001b[0m\u001b[0;37mtrue\u001b[0m\u001b[1;37m,\n",
      "    \u001b[0m\u001b[34;1m\"stats\"\u001b[0m\u001b[1;37m: \u001b[0m\u001b[0;32m\"{\\\"numRecords\\\":100352,\\\"minValues\\\":{\\\"generate_series\\\":100353},\\\"maxValues\\\":{\\\"generate_series\\\":200704},\\\"nullCount\\\":{\\\"generate_series\\\":0}}\"\u001b[0m\u001b[1;37m,\n",
      "    \u001b[0m\u001b[34;1m\"tags\"\u001b[0m\u001b[1;37m: \u001b[0m\u001b[1;30mnull\u001b[0m\u001b[1;37m,\n",
      "    \u001b[0m\u001b[34;1m\"deletionVector\"\u001b[0m\u001b[1;37m: \u001b[0m\u001b[1;30mnull\u001b[0m\u001b[1;37m,\n",
      "    \u001b[0m\u001b[34;1m\"baseRowId\"\u001b[0m\u001b[1;37m: \u001b[0m\u001b[1;30mnull\u001b[0m\u001b[1;37m,\n",
      "    \u001b[0m\u001b[34;1m\"defaultRowCommitVersion\"\u001b[0m\u001b[1;37m: \u001b[0m\u001b[1;30mnull\u001b[0m\u001b[1;37m,\n",
      "    \u001b[0m\u001b[34;1m\"clusteringProvider\"\u001b[0m\u001b[1;37m: \u001b[0m\u001b[1;30mnull\u001b[0m\u001b[1;37m\n",
      "  \u001b[1;37m}\u001b[0m\u001b[1;37m\n",
      "\u001b[1;37m}\u001b[0m\n",
      "\u001b[1;37m{\n",
      "  \u001b[0m\u001b[34;1m\"add\"\u001b[0m\u001b[1;37m: \u001b[0m\u001b[1;37m{\n",
      "    \u001b[0m\u001b[34;1m\"path\"\u001b[0m\u001b[1;37m: \u001b[0m\u001b[0;32m\"data_8.parquet\"\u001b[0m\u001b[1;37m,\n",
      "    \u001b[0m\u001b[34;1m\"partitionValues\"\u001b[0m\u001b[1;37m: \u001b[0m\u001b[1;37m{}\u001b[0m\u001b[1;37m,\n",
      "    \u001b[0m\u001b[34;1m\"size\"\u001b[0m\u001b[1;37m: \u001b[0m\u001b[0;37m102160\u001b[0m\u001b[1;37m,\n",
      "    \u001b[0m\u001b[34;1m\"modificationTime\"\u001b[0m\u001b[1;37m: \u001b[0m\u001b[0;37m1740519684577\u001b[0m\u001b[1;37m,\n",
      "    \u001b[0m\u001b[34;1m\"dataChange\"\u001b[0m\u001b[1;37m: \u001b[0m\u001b[0;37mtrue\u001b[0m\u001b[1;37m,\n",
      "    \u001b[0m\u001b[34;1m\"stats\"\u001b[0m\u001b[1;37m: \u001b[0m\u001b[0;32m\"{\\\"numRecords\\\":100352,\\\"minValues\\\":{\\\"generate_series\\\":802817},\\\"maxValues\\\":{\\\"generate_series\\\":903168},\\\"nullCount\\\":{\\\"generate_series\\\":0}}\"\u001b[0m\u001b[1;37m,\n",
      "    \u001b[0m\u001b[34;1m\"tags\"\u001b[0m\u001b[1;37m: \u001b[0m\u001b[1;30mnull\u001b[0m\u001b[1;37m,\n",
      "    \u001b[0m\u001b[34;1m\"deletionVector\"\u001b[0m\u001b[1;37m: \u001b[0m\u001b[1;30mnull\u001b[0m\u001b[1;37m,\n",
      "    \u001b[0m\u001b[34;1m\"baseRowId\"\u001b[0m\u001b[1;37m: \u001b[0m\u001b[1;30mnull\u001b[0m\u001b[1;37m,\n",
      "    \u001b[0m\u001b[34;1m\"defaultRowCommitVersion\"\u001b[0m\u001b[1;37m: \u001b[0m\u001b[1;30mnull\u001b[0m\u001b[1;37m,\n",
      "    \u001b[0m\u001b[34;1m\"clusteringProvider\"\u001b[0m\u001b[1;37m: \u001b[0m\u001b[1;30mnull\u001b[0m\u001b[1;37m\n",
      "  \u001b[1;37m}\u001b[0m\u001b[1;37m\n",
      "\u001b[1;37m}\u001b[0m\n",
      "\u001b[1;37m{\n",
      "  \u001b[0m\u001b[34;1m\"commitInfo\"\u001b[0m\u001b[1;37m: \u001b[0m\u001b[1;37m{\n",
      "    \u001b[0m\u001b[34;1m\"timestamp\"\u001b[0m\u001b[1;37m: \u001b[0m\u001b[0;37m1740519685627\u001b[0m\u001b[1;37m,\n",
      "    \u001b[0m\u001b[34;1m\"operation\"\u001b[0m\u001b[1;37m: \u001b[0m\u001b[0;32m\"CREATE TABLE\"\u001b[0m\u001b[1;37m,\n",
      "    \u001b[0m\u001b[34;1m\"operationParameters\"\u001b[0m\u001b[1;37m: \u001b[0m\u001b[1;37m{\n",
      "      \u001b[0m\u001b[34;1m\"mode\"\u001b[0m\u001b[1;37m: \u001b[0m\u001b[0;32m\"ErrorIfExists\"\u001b[0m\u001b[1;37m,\n",
      "      \u001b[0m\u001b[34;1m\"metadata\"\u001b[0m\u001b[1;37m: \u001b[0m\u001b[0;32m\"{\\\"configuration\\\":{},\\\"createdTime\\\":1740519685627,\\\"description\\\":null,\\\"format\\\":{\\\"options\\\":{},\\\"provider\\\":\\\"parquet\\\"},\\\"id\\\":\\\"a704b337-7354-42ac-baa0-7b3f680e3005\\\",\\\"name\\\":null,\\\"partitionColumns\\\":[],\\\"schemaString\\\":\\\"{\\\\\\\"type\\\\\\\":\\\\\\\"struct\\\\\\\",\\\\\\\"fields\\\\\\\":[{\\\\\\\"name\\\\\\\":\\\\\\\"generate_series\\\\\\\",\\\\\\\"type\\\\\\\":\\\\\\\"long\\\\\\\",\\\\\\\"nullable\\\\\\\":true,\\\\\\\"metadata\\\\\\\":{}}]}\\\"}\"\u001b[0m\u001b[1;37m,\n",
      "      \u001b[0m\u001b[34;1m\"protocol\"\u001b[0m\u001b[1;37m: \u001b[0m\u001b[0;32m\"{\\\"minReaderVersion\\\":1,\\\"minWriterVersion\\\":2}\"\u001b[0m\u001b[1;37m,\n",
      "      \u001b[0m\u001b[34;1m\"location\"\u001b[0m\u001b[1;37m: \u001b[0m\u001b[0;32m\"file:///Users/kevinliu/repos/iceberg-python/warehouse\"\u001b[0m\u001b[1;37m\n",
      "    \u001b[1;37m}\u001b[0m\u001b[1;37m,\n",
      "    \u001b[0m\u001b[34;1m\"clientVersion\"\u001b[0m\u001b[1;37m: \u001b[0m\u001b[0;32m\"delta-rs.0.24.0\"\u001b[0m\u001b[1;37m\n",
      "  \u001b[1;37m}\u001b[0m\u001b[1;37m\n",
      "\u001b[1;37m}\u001b[0m\n"
     ]
    }
   ],
   "source": [
    "!jq . warehouse/_delta_log/00000000000000000000.json"
   ]
  },
  {
   "cell_type": "code",
   "execution_count": 14,
   "id": "1f2a5bc6-8831-4108-b40f-149ee54dd7d4",
   "metadata": {},
   "outputs": [
    {
     "name": "stdout",
     "output_type": "stream",
     "text": [
      "delta records=1000000\n",
      "Delta data files:\n",
      "/Users/kevinliu/repos/iceberg-python/warehouse/data_4.parquet\n",
      "/Users/kevinliu/repos/iceberg-python/warehouse/data_5.parquet\n",
      "/Users/kevinliu/repos/iceberg-python/warehouse/data_7.parquet\n",
      "/Users/kevinliu/repos/iceberg-python/warehouse/data_6.parquet\n",
      "/Users/kevinliu/repos/iceberg-python/warehouse/data_3.parquet\n",
      "/Users/kevinliu/repos/iceberg-python/warehouse/data_2.parquet\n",
      "/Users/kevinliu/repos/iceberg-python/warehouse/data_9.parquet\n",
      "/Users/kevinliu/repos/iceberg-python/warehouse/data_0.parquet\n",
      "/Users/kevinliu/repos/iceberg-python/warehouse/data_1.parquet\n",
      "/Users/kevinliu/repos/iceberg-python/warehouse/data_8.parquet\n"
     ]
    }
   ],
   "source": [
    "# read the delta table\n",
    "delta_table = DeltaTable(warehouse)\n",
    "\n",
    "delta_row_num = len(delta_table.to_pyarrow_table())\n",
    "print(f\"delta records={delta_row_num}\")\n",
    "assert delta_row_num == iceberg_row_num == duckdb_row_num\n",
    "\n",
    "print(\"Delta data files:\")\n",
    "for data_file in delta_table.file_uris():\n",
    "    print(data_file)"
   ]
  },
  {
   "cell_type": "code",
   "execution_count": 15,
   "id": "b618c626-7fb3-477c-8635-f2056be9e5ec",
   "metadata": {},
   "outputs": [
    {
     "name": "stdout",
     "output_type": "stream",
     "text": [
      "\u001b[1;36mwarehouse\u001b[0m\n",
      "├── \u001b[1;36m_delta_log\u001b[0m\n",
      "│   └── 00000000000000000000.json\n",
      "├── data_0.parquet\n",
      "├── data_1.parquet\n",
      "├── data_2.parquet\n",
      "├── data_3.parquet\n",
      "├── data_4.parquet\n",
      "├── data_5.parquet\n",
      "├── data_6.parquet\n",
      "├── data_7.parquet\n",
      "├── data_8.parquet\n",
      "├── data_9.parquet\n",
      "└── \u001b[1;36mfoo.db\u001b[0m\n",
      "    └── \u001b[1;36mbar\u001b[0m\n",
      "        └── \u001b[1;36mmetadata\u001b[0m\n",
      "            ├── 00000-5165b4bf-26e5-408c-8bd5-197f807bd99a.metadata.json\n",
      "            ├── 611f72cf-6486-430c-bd92-d6691be98c19-m0.avro\n",
      "            └── snap-1222512222308558805-0-611f72cf-6486-430c-bd92-d6691be98c19.avro\n",
      "\n",
      "5 directories, 14 files\n"
     ]
    }
   ],
   "source": [
    "# nothing changed\n",
    "!tree warehouse"
   ]
  },
  {
   "cell_type": "code",
   "execution_count": 16,
   "id": "bd83fc17-5b21-47ad-a901-2007695abbd1",
   "metadata": {},
   "outputs": [
    {
     "name": "stdout",
     "output_type": "stream",
     "text": [
      "{'filesAdded': '{\"avg\":1324565.0,\"max\":1324565,\"min\":1324565,\"totalFiles\":1,\"totalSize\":1324565}',\n",
      " 'filesRemoved': '{\"avg\":105539.2,\"max\":139492,\"min\":98580,\"totalFiles\":10,\"totalSize\":1055392}',\n",
      " 'numBatches': 977,\n",
      " 'numFilesAdded': 1,\n",
      " 'numFilesRemoved': 10,\n",
      " 'partitionsOptimized': 1,\n",
      " 'preserveInsertionOrder': True,\n",
      " 'totalConsideredFiles': 10,\n",
      " 'totalFilesSkipped': 0}\n",
      "CPU times: user 51.3 ms, sys: 14.9 ms, total: 66.2 ms\n",
      "Wall time: 63.7 ms\n"
     ]
    }
   ],
   "source": [
    "%%time\n",
    "# compact\n",
    "target_size = 512 * 1024 * 1024 # 512MB\n",
    "compaction_result = delta_table.optimize.compact(target_size=target_size)\n",
    "pprint(compaction_result)"
   ]
  },
  {
   "cell_type": "code",
   "execution_count": 17,
   "id": "87f398a0-0903-40ae-932d-ea25577b50d0",
   "metadata": {},
   "outputs": [
    {
     "name": "stdout",
     "output_type": "stream",
     "text": [
      "delta records=1000000\n",
      "Delta data files:\n",
      "/Users/kevinliu/repos/iceberg-python/warehouse/part-00001-05deccb1-8776-4163-8db3-b12499a73057-c000.zstd.parquet\n"
     ]
    }
   ],
   "source": [
    "delta_row_num = len(delta_table.to_pyarrow_table())\n",
    "print(f\"delta records={delta_row_num}\")\n",
    "assert delta_row_num == iceberg_row_num == duckdb_row_num\n",
    "\n",
    "print(\"Delta data files:\")\n",
    "for data_file in delta_table.file_uris():\n",
    "    print(data_file)"
   ]
  },
  {
   "cell_type": "code",
   "execution_count": 18,
   "id": "0f6a1662-d748-40fa-890f-c0d27825acdf",
   "metadata": {},
   "outputs": [
    {
     "name": "stdout",
     "output_type": "stream",
     "text": [
      "\u001b[1;36mwarehouse\u001b[0m\n",
      "├── \u001b[1;36m_delta_log\u001b[0m\n",
      "│   ├── 00000000000000000000.json\n",
      "│   └── 00000000000000000001.json\n",
      "├── data_0.parquet\n",
      "├── data_1.parquet\n",
      "├── data_2.parquet\n",
      "├── data_3.parquet\n",
      "├── data_4.parquet\n",
      "├── data_5.parquet\n",
      "├── data_6.parquet\n",
      "├── data_7.parquet\n",
      "├── data_8.parquet\n",
      "├── data_9.parquet\n",
      "├── \u001b[1;36mfoo.db\u001b[0m\n",
      "│   └── \u001b[1;36mbar\u001b[0m\n",
      "│       └── \u001b[1;36mmetadata\u001b[0m\n",
      "│           ├── 00000-5165b4bf-26e5-408c-8bd5-197f807bd99a.metadata.json\n",
      "│           ├── 611f72cf-6486-430c-bd92-d6691be98c19-m0.avro\n",
      "│           └── snap-1222512222308558805-0-611f72cf-6486-430c-bd92-d6691be98c19.avro\n",
      "└── part-00001-05deccb1-8776-4163-8db3-b12499a73057-c000.zstd.parquet\n",
      "\n",
      "5 directories, 16 files\n"
     ]
    }
   ],
   "source": [
    "!tree warehouse"
   ]
  },
  {
   "cell_type": "code",
   "execution_count": 19,
   "id": "56491f41-1fb0-4aea-b006-71052080490e",
   "metadata": {
    "scrolled": true
   },
   "outputs": [
    {
     "name": "stdout",
     "output_type": "stream",
     "text": [
      "\u001b[1;37m{\n",
      "  \u001b[0m\u001b[34;1m\"remove\"\u001b[0m\u001b[1;37m: \u001b[0m\u001b[1;37m{\n",
      "    \u001b[0m\u001b[34;1m\"path\"\u001b[0m\u001b[1;37m: \u001b[0m\u001b[0;32m\"data_0.parquet\"\u001b[0m\u001b[1;37m,\n",
      "    \u001b[0m\u001b[34;1m\"dataChange\"\u001b[0m\u001b[1;37m: \u001b[0m\u001b[0;37mfalse\u001b[0m\u001b[1;37m,\n",
      "    \u001b[0m\u001b[34;1m\"deletionTimestamp\"\u001b[0m\u001b[1;37m: \u001b[0m\u001b[0;37m1740519686530\u001b[0m\u001b[1;37m,\n",
      "    \u001b[0m\u001b[34;1m\"partitionValues\"\u001b[0m\u001b[1;37m: \u001b[0m\u001b[1;37m{}\u001b[0m\u001b[1;37m,\n",
      "    \u001b[0m\u001b[34;1m\"size\"\u001b[0m\u001b[1;37m: \u001b[0m\u001b[0;37m139492\u001b[0m\u001b[1;37m\n",
      "  \u001b[1;37m}\u001b[0m\u001b[1;37m\n",
      "\u001b[1;37m}\u001b[0m\n",
      "\u001b[1;37m{\n",
      "  \u001b[0m\u001b[34;1m\"remove\"\u001b[0m\u001b[1;37m: \u001b[0m\u001b[1;37m{\n",
      "    \u001b[0m\u001b[34;1m\"path\"\u001b[0m\u001b[1;37m: \u001b[0m\u001b[0;32m\"data_5.parquet\"\u001b[0m\u001b[1;37m,\n",
      "    \u001b[0m\u001b[34;1m\"dataChange\"\u001b[0m\u001b[1;37m: \u001b[0m\u001b[0;37mfalse\u001b[0m\u001b[1;37m,\n",
      "    \u001b[0m\u001b[34;1m\"deletionTimestamp\"\u001b[0m\u001b[1;37m: \u001b[0m\u001b[0;37m1740519686530\u001b[0m\u001b[1;37m,\n",
      "    \u001b[0m\u001b[34;1m\"partitionValues\"\u001b[0m\u001b[1;37m: \u001b[0m\u001b[1;37m{}\u001b[0m\u001b[1;37m,\n",
      "    \u001b[0m\u001b[34;1m\"size\"\u001b[0m\u001b[1;37m: \u001b[0m\u001b[0;37m102170\u001b[0m\u001b[1;37m\n",
      "  \u001b[1;37m}\u001b[0m\u001b[1;37m\n",
      "\u001b[1;37m}\u001b[0m\n",
      "\u001b[1;37m{\n",
      "  \u001b[0m\u001b[34;1m\"remove\"\u001b[0m\u001b[1;37m: \u001b[0m\u001b[1;37m{\n",
      "    \u001b[0m\u001b[34;1m\"path\"\u001b[0m\u001b[1;37m: \u001b[0m\u001b[0;32m\"data_7.parquet\"\u001b[0m\u001b[1;37m,\n",
      "    \u001b[0m\u001b[34;1m\"dataChange\"\u001b[0m\u001b[1;37m: \u001b[0m\u001b[0;37mfalse\u001b[0m\u001b[1;37m,\n",
      "    \u001b[0m\u001b[34;1m\"deletionTimestamp\"\u001b[0m\u001b[1;37m: \u001b[0m\u001b[0;37m1740519686530\u001b[0m\u001b[1;37m,\n",
      "    \u001b[0m\u001b[34;1m\"partitionValues\"\u001b[0m\u001b[1;37m: \u001b[0m\u001b[1;37m{}\u001b[0m\u001b[1;37m,\n",
      "    \u001b[0m\u001b[34;1m\"size\"\u001b[0m\u001b[1;37m: \u001b[0m\u001b[0;37m102170\u001b[0m\u001b[1;37m\n",
      "  \u001b[1;37m}\u001b[0m\u001b[1;37m\n",
      "\u001b[1;37m}\u001b[0m\n",
      "\u001b[1;37m{\n",
      "  \u001b[0m\u001b[34;1m\"remove\"\u001b[0m\u001b[1;37m: \u001b[0m\u001b[1;37m{\n",
      "    \u001b[0m\u001b[34;1m\"path\"\u001b[0m\u001b[1;37m: \u001b[0m\u001b[0;32m\"data_3.parquet\"\u001b[0m\u001b[1;37m,\n",
      "    \u001b[0m\u001b[34;1m\"dataChange\"\u001b[0m\u001b[1;37m: \u001b[0m\u001b[0;37mfalse\u001b[0m\u001b[1;37m,\n",
      "    \u001b[0m\u001b[34;1m\"deletionTimestamp\"\u001b[0m\u001b[1;37m: \u001b[0m\u001b[0;37m1740519686530\u001b[0m\u001b[1;37m,\n",
      "    \u001b[0m\u001b[34;1m\"partitionValues\"\u001b[0m\u001b[1;37m: \u001b[0m\u001b[1;37m{}\u001b[0m\u001b[1;37m,\n",
      "    \u001b[0m\u001b[34;1m\"size\"\u001b[0m\u001b[1;37m: \u001b[0m\u001b[0;37m102170\u001b[0m\u001b[1;37m\n",
      "  \u001b[1;37m}\u001b[0m\u001b[1;37m\n",
      "\u001b[1;37m}\u001b[0m\n",
      "\u001b[1;37m{\n",
      "  \u001b[0m\u001b[34;1m\"remove\"\u001b[0m\u001b[1;37m: \u001b[0m\u001b[1;37m{\n",
      "    \u001b[0m\u001b[34;1m\"path\"\u001b[0m\u001b[1;37m: \u001b[0m\u001b[0;32m\"data_1.parquet\"\u001b[0m\u001b[1;37m,\n",
      "    \u001b[0m\u001b[34;1m\"dataChange\"\u001b[0m\u001b[1;37m: \u001b[0m\u001b[0;37mfalse\u001b[0m\u001b[1;37m,\n",
      "    \u001b[0m\u001b[34;1m\"deletionTimestamp\"\u001b[0m\u001b[1;37m: \u001b[0m\u001b[0;37m1740519686530\u001b[0m\u001b[1;37m,\n",
      "    \u001b[0m\u001b[34;1m\"partitionValues\"\u001b[0m\u001b[1;37m: \u001b[0m\u001b[1;37m{}\u001b[0m\u001b[1;37m,\n",
      "    \u001b[0m\u001b[34;1m\"size\"\u001b[0m\u001b[1;37m: \u001b[0m\u001b[0;37m102170\u001b[0m\u001b[1;37m\n",
      "  \u001b[1;37m}\u001b[0m\u001b[1;37m\n",
      "\u001b[1;37m}\u001b[0m\n",
      "\u001b[1;37m{\n",
      "  \u001b[0m\u001b[34;1m\"remove\"\u001b[0m\u001b[1;37m: \u001b[0m\u001b[1;37m{\n",
      "    \u001b[0m\u001b[34;1m\"path\"\u001b[0m\u001b[1;37m: \u001b[0m\u001b[0;32m\"data_4.parquet\"\u001b[0m\u001b[1;37m,\n",
      "    \u001b[0m\u001b[34;1m\"dataChange\"\u001b[0m\u001b[1;37m: \u001b[0m\u001b[0;37mfalse\u001b[0m\u001b[1;37m,\n",
      "    \u001b[0m\u001b[34;1m\"deletionTimestamp\"\u001b[0m\u001b[1;37m: \u001b[0m\u001b[0;37m1740519686530\u001b[0m\u001b[1;37m,\n",
      "    \u001b[0m\u001b[34;1m\"partitionValues\"\u001b[0m\u001b[1;37m: \u001b[0m\u001b[1;37m{}\u001b[0m\u001b[1;37m,\n",
      "    \u001b[0m\u001b[34;1m\"size\"\u001b[0m\u001b[1;37m: \u001b[0m\u001b[0;37m102160\u001b[0m\u001b[1;37m\n",
      "  \u001b[1;37m}\u001b[0m\u001b[1;37m\n",
      "\u001b[1;37m}\u001b[0m\n",
      "\u001b[1;37m{\n",
      "  \u001b[0m\u001b[34;1m\"remove\"\u001b[0m\u001b[1;37m: \u001b[0m\u001b[1;37m{\n",
      "    \u001b[0m\u001b[34;1m\"path\"\u001b[0m\u001b[1;37m: \u001b[0m\u001b[0;32m\"data_6.parquet\"\u001b[0m\u001b[1;37m,\n",
      "    \u001b[0m\u001b[34;1m\"dataChange\"\u001b[0m\u001b[1;37m: \u001b[0m\u001b[0;37mfalse\u001b[0m\u001b[1;37m,\n",
      "    \u001b[0m\u001b[34;1m\"deletionTimestamp\"\u001b[0m\u001b[1;37m: \u001b[0m\u001b[0;37m1740519686530\u001b[0m\u001b[1;37m,\n",
      "    \u001b[0m\u001b[34;1m\"partitionValues\"\u001b[0m\u001b[1;37m: \u001b[0m\u001b[1;37m{}\u001b[0m\u001b[1;37m,\n",
      "    \u001b[0m\u001b[34;1m\"size\"\u001b[0m\u001b[1;37m: \u001b[0m\u001b[0;37m102160\u001b[0m\u001b[1;37m\n",
      "  \u001b[1;37m}\u001b[0m\u001b[1;37m\n",
      "\u001b[1;37m}\u001b[0m\n",
      "\u001b[1;37m{\n",
      "  \u001b[0m\u001b[34;1m\"remove\"\u001b[0m\u001b[1;37m: \u001b[0m\u001b[1;37m{\n",
      "    \u001b[0m\u001b[34;1m\"path\"\u001b[0m\u001b[1;37m: \u001b[0m\u001b[0;32m\"data_2.parquet\"\u001b[0m\u001b[1;37m,\n",
      "    \u001b[0m\u001b[34;1m\"dataChange\"\u001b[0m\u001b[1;37m: \u001b[0m\u001b[0;37mfalse\u001b[0m\u001b[1;37m,\n",
      "    \u001b[0m\u001b[34;1m\"deletionTimestamp\"\u001b[0m\u001b[1;37m: \u001b[0m\u001b[0;37m1740519686530\u001b[0m\u001b[1;37m,\n",
      "    \u001b[0m\u001b[34;1m\"partitionValues\"\u001b[0m\u001b[1;37m: \u001b[0m\u001b[1;37m{}\u001b[0m\u001b[1;37m,\n",
      "    \u001b[0m\u001b[34;1m\"size\"\u001b[0m\u001b[1;37m: \u001b[0m\u001b[0;37m102160\u001b[0m\u001b[1;37m\n",
      "  \u001b[1;37m}\u001b[0m\u001b[1;37m\n",
      "\u001b[1;37m}\u001b[0m\n",
      "\u001b[1;37m{\n",
      "  \u001b[0m\u001b[34;1m\"remove\"\u001b[0m\u001b[1;37m: \u001b[0m\u001b[1;37m{\n",
      "    \u001b[0m\u001b[34;1m\"path\"\u001b[0m\u001b[1;37m: \u001b[0m\u001b[0;32m\"data_8.parquet\"\u001b[0m\u001b[1;37m,\n",
      "    \u001b[0m\u001b[34;1m\"dataChange\"\u001b[0m\u001b[1;37m: \u001b[0m\u001b[0;37mfalse\u001b[0m\u001b[1;37m,\n",
      "    \u001b[0m\u001b[34;1m\"deletionTimestamp\"\u001b[0m\u001b[1;37m: \u001b[0m\u001b[0;37m1740519686530\u001b[0m\u001b[1;37m,\n",
      "    \u001b[0m\u001b[34;1m\"partitionValues\"\u001b[0m\u001b[1;37m: \u001b[0m\u001b[1;37m{}\u001b[0m\u001b[1;37m,\n",
      "    \u001b[0m\u001b[34;1m\"size\"\u001b[0m\u001b[1;37m: \u001b[0m\u001b[0;37m102160\u001b[0m\u001b[1;37m\n",
      "  \u001b[1;37m}\u001b[0m\u001b[1;37m\n",
      "\u001b[1;37m}\u001b[0m\n",
      "\u001b[1;37m{\n",
      "  \u001b[0m\u001b[34;1m\"remove\"\u001b[0m\u001b[1;37m: \u001b[0m\u001b[1;37m{\n",
      "    \u001b[0m\u001b[34;1m\"path\"\u001b[0m\u001b[1;37m: \u001b[0m\u001b[0;32m\"data_9.parquet\"\u001b[0m\u001b[1;37m,\n",
      "    \u001b[0m\u001b[34;1m\"dataChange\"\u001b[0m\u001b[1;37m: \u001b[0m\u001b[0;37mfalse\u001b[0m\u001b[1;37m,\n",
      "    \u001b[0m\u001b[34;1m\"deletionTimestamp\"\u001b[0m\u001b[1;37m: \u001b[0m\u001b[0;37m1740519686530\u001b[0m\u001b[1;37m,\n",
      "    \u001b[0m\u001b[34;1m\"partitionValues\"\u001b[0m\u001b[1;37m: \u001b[0m\u001b[1;37m{}\u001b[0m\u001b[1;37m,\n",
      "    \u001b[0m\u001b[34;1m\"size\"\u001b[0m\u001b[1;37m: \u001b[0m\u001b[0;37m98580\u001b[0m\u001b[1;37m\n",
      "  \u001b[1;37m}\u001b[0m\u001b[1;37m\n",
      "\u001b[1;37m}\u001b[0m\n",
      "\u001b[1;37m{\n",
      "  \u001b[0m\u001b[34;1m\"add\"\u001b[0m\u001b[1;37m: \u001b[0m\u001b[1;37m{\n",
      "    \u001b[0m\u001b[34;1m\"path\"\u001b[0m\u001b[1;37m: \u001b[0m\u001b[0;32m\"part-00001-05deccb1-8776-4163-8db3-b12499a73057-c000.zstd.parquet\"\u001b[0m\u001b[1;37m,\n",
      "    \u001b[0m\u001b[34;1m\"partitionValues\"\u001b[0m\u001b[1;37m: \u001b[0m\u001b[1;37m{}\u001b[0m\u001b[1;37m,\n",
      "    \u001b[0m\u001b[34;1m\"size\"\u001b[0m\u001b[1;37m: \u001b[0m\u001b[0;37m1324565\u001b[0m\u001b[1;37m,\n",
      "    \u001b[0m\u001b[34;1m\"modificationTime\"\u001b[0m\u001b[1;37m: \u001b[0m\u001b[0;37m1740519686589\u001b[0m\u001b[1;37m,\n",
      "    \u001b[0m\u001b[34;1m\"dataChange\"\u001b[0m\u001b[1;37m: \u001b[0m\u001b[0;37mfalse\u001b[0m\u001b[1;37m,\n",
      "    \u001b[0m\u001b[34;1m\"stats\"\u001b[0m\u001b[1;37m: \u001b[0m\u001b[0;32m\"{\\\"numRecords\\\":1000000,\\\"minValues\\\":{\\\"generate_series\\\":1},\\\"maxValues\\\":{\\\"generate_series\\\":1000000},\\\"nullCount\\\":{\\\"generate_series\\\":0}}\"\u001b[0m\u001b[1;37m,\n",
      "    \u001b[0m\u001b[34;1m\"tags\"\u001b[0m\u001b[1;37m: \u001b[0m\u001b[1;30mnull\u001b[0m\u001b[1;37m,\n",
      "    \u001b[0m\u001b[34;1m\"deletionVector\"\u001b[0m\u001b[1;37m: \u001b[0m\u001b[1;30mnull\u001b[0m\u001b[1;37m,\n",
      "    \u001b[0m\u001b[34;1m\"baseRowId\"\u001b[0m\u001b[1;37m: \u001b[0m\u001b[1;30mnull\u001b[0m\u001b[1;37m,\n",
      "    \u001b[0m\u001b[34;1m\"defaultRowCommitVersion\"\u001b[0m\u001b[1;37m: \u001b[0m\u001b[1;30mnull\u001b[0m\u001b[1;37m,\n",
      "    \u001b[0m\u001b[34;1m\"clusteringProvider\"\u001b[0m\u001b[1;37m: \u001b[0m\u001b[1;30mnull\u001b[0m\u001b[1;37m\n",
      "  \u001b[1;37m}\u001b[0m\u001b[1;37m\n",
      "\u001b[1;37m}\u001b[0m\n",
      "\u001b[1;37m{\n",
      "  \u001b[0m\u001b[34;1m\"commitInfo\"\u001b[0m\u001b[1;37m: \u001b[0m\u001b[1;37m{\n",
      "    \u001b[0m\u001b[34;1m\"timestamp\"\u001b[0m\u001b[1;37m: \u001b[0m\u001b[0;37m1740519686589\u001b[0m\u001b[1;37m,\n",
      "    \u001b[0m\u001b[34;1m\"operation\"\u001b[0m\u001b[1;37m: \u001b[0m\u001b[0;32m\"OPTIMIZE\"\u001b[0m\u001b[1;37m,\n",
      "    \u001b[0m\u001b[34;1m\"operationParameters\"\u001b[0m\u001b[1;37m: \u001b[0m\u001b[1;37m{\n",
      "      \u001b[0m\u001b[34;1m\"predicate\"\u001b[0m\u001b[1;37m: \u001b[0m\u001b[0;32m\"[]\"\u001b[0m\u001b[1;37m,\n",
      "      \u001b[0m\u001b[34;1m\"targetSize\"\u001b[0m\u001b[1;37m: \u001b[0m\u001b[0;32m\"536870912\"\u001b[0m\u001b[1;37m\n",
      "    \u001b[1;37m}\u001b[0m\u001b[1;37m,\n",
      "    \u001b[0m\u001b[34;1m\"readVersion\"\u001b[0m\u001b[1;37m: \u001b[0m\u001b[0;37m0\u001b[0m\u001b[1;37m,\n",
      "    \u001b[0m\u001b[34;1m\"operationMetrics\"\u001b[0m\u001b[1;37m: \u001b[0m\u001b[1;37m{\n",
      "      \u001b[0m\u001b[34;1m\"filesAdded\"\u001b[0m\u001b[1;37m: \u001b[0m\u001b[0;32m\"{\\\"avg\\\":1324565.0,\\\"max\\\":1324565,\\\"min\\\":1324565,\\\"totalFiles\\\":1,\\\"totalSize\\\":1324565}\"\u001b[0m\u001b[1;37m,\n",
      "      \u001b[0m\u001b[34;1m\"filesRemoved\"\u001b[0m\u001b[1;37m: \u001b[0m\u001b[0;32m\"{\\\"avg\\\":105539.2,\\\"max\\\":139492,\\\"min\\\":98580,\\\"totalFiles\\\":10,\\\"totalSize\\\":1055392}\"\u001b[0m\u001b[1;37m,\n",
      "      \u001b[0m\u001b[34;1m\"numBatches\"\u001b[0m\u001b[1;37m: \u001b[0m\u001b[0;37m977\u001b[0m\u001b[1;37m,\n",
      "      \u001b[0m\u001b[34;1m\"numFilesAdded\"\u001b[0m\u001b[1;37m: \u001b[0m\u001b[0;37m1\u001b[0m\u001b[1;37m,\n",
      "      \u001b[0m\u001b[34;1m\"numFilesRemoved\"\u001b[0m\u001b[1;37m: \u001b[0m\u001b[0;37m10\u001b[0m\u001b[1;37m,\n",
      "      \u001b[0m\u001b[34;1m\"partitionsOptimized\"\u001b[0m\u001b[1;37m: \u001b[0m\u001b[0;37m1\u001b[0m\u001b[1;37m,\n",
      "      \u001b[0m\u001b[34;1m\"preserveInsertionOrder\"\u001b[0m\u001b[1;37m: \u001b[0m\u001b[0;37mtrue\u001b[0m\u001b[1;37m,\n",
      "      \u001b[0m\u001b[34;1m\"totalConsideredFiles\"\u001b[0m\u001b[1;37m: \u001b[0m\u001b[0;37m10\u001b[0m\u001b[1;37m,\n",
      "      \u001b[0m\u001b[34;1m\"totalFilesSkipped\"\u001b[0m\u001b[1;37m: \u001b[0m\u001b[0;37m0\u001b[0m\u001b[1;37m\n",
      "    \u001b[1;37m}\u001b[0m\u001b[1;37m,\n",
      "    \u001b[0m\u001b[34;1m\"clientVersion\"\u001b[0m\u001b[1;37m: \u001b[0m\u001b[0;32m\"delta-rs.0.24.0\"\u001b[0m\u001b[1;37m\n",
      "  \u001b[1;37m}\u001b[0m\u001b[1;37m\n",
      "\u001b[1;37m}\u001b[0m\n"
     ]
    }
   ],
   "source": [
    "!jq . warehouse/_delta_log/00000000000000000001.json"
   ]
  },
  {
   "cell_type": "code",
   "execution_count": 20,
   "id": "d6bd6907-e4c5-4286-9d5b-ff0514f6ef7e",
   "metadata": {},
   "outputs": [
    {
     "name": "stdout",
     "output_type": "stream",
     "text": [
      "/Users/kevinliu/repos/iceberg-python/warehouse/data_0.parquet\n",
      "/Users/kevinliu/repos/iceberg-python/warehouse/data_1.parquet\n",
      "/Users/kevinliu/repos/iceberg-python/warehouse/data_2.parquet\n",
      "/Users/kevinliu/repos/iceberg-python/warehouse/data_3.parquet\n",
      "/Users/kevinliu/repos/iceberg-python/warehouse/data_4.parquet\n",
      "/Users/kevinliu/repos/iceberg-python/warehouse/data_5.parquet\n",
      "/Users/kevinliu/repos/iceberg-python/warehouse/data_6.parquet\n",
      "/Users/kevinliu/repos/iceberg-python/warehouse/data_7.parquet\n",
      "/Users/kevinliu/repos/iceberg-python/warehouse/data_8.parquet\n",
      "/Users/kevinliu/repos/iceberg-python/warehouse/data_9.parquet\n"
     ]
    }
   ],
   "source": [
    "# iceberg table is unaffected\n",
    "for data_file in iceberg_table.inspect.files().to_pydict()['file_path']:\n",
    "    print(data_file)"
   ]
  },
  {
   "cell_type": "code",
   "execution_count": 21,
   "id": "a1781579-94a6-4722-8834-715bb320cb69",
   "metadata": {},
   "outputs": [],
   "source": [
    "# since we haven't implemented REPLACE, this is a hack\n",
    "with iceberg_table.transaction() as txn:\n",
    "    from pyiceberg.table import ALWAYS_TRUE\n",
    "    txn.delete(delete_filter=ALWAYS_TRUE) # deletes everything\n",
    "    txn.add_files([os.path.abspath(data_file) for data_file in delta_table.file_uris()]) # add the new files"
   ]
  },
  {
   "cell_type": "code",
   "execution_count": 22,
   "id": "bb8ec111-711b-4b32-9590-782fa64414aa",
   "metadata": {},
   "outputs": [
    {
     "name": "stdout",
     "output_type": "stream",
     "text": [
      "iceberg records=1000000\n",
      "/Users/kevinliu/repos/iceberg-python/warehouse/part-00001-05deccb1-8776-4163-8db3-b12499a73057-c000.zstd.parquet\n"
     ]
    }
   ],
   "source": [
    "# iceberg table is now compacted\n",
    "iceberg_row_num = iceberg_table.scan().count()\n",
    "print(f\"iceberg records={iceberg_row_num}\")\n",
    "for data_file in iceberg_table.inspect.files().to_pydict()['file_path']:\n",
    "    print(data_file)"
   ]
  },
  {
   "cell_type": "code",
   "execution_count": 23,
   "id": "d0911927-ccfe-4b3f-92a5-f067d5b64435",
   "metadata": {},
   "outputs": [
    {
     "name": "stdout",
     "output_type": "stream",
     "text": [
      "\u001b[1;36mwarehouse\u001b[0m\n",
      "├── \u001b[1;36m_delta_log\u001b[0m\n",
      "│   ├── 00000000000000000000.json\n",
      "│   └── 00000000000000000001.json\n",
      "├── data_0.parquet\n",
      "├── data_1.parquet\n",
      "├── data_2.parquet\n",
      "├── data_3.parquet\n",
      "├── data_4.parquet\n",
      "├── data_5.parquet\n",
      "├── data_6.parquet\n",
      "├── data_7.parquet\n",
      "├── data_8.parquet\n",
      "├── data_9.parquet\n",
      "├── \u001b[1;36mfoo.db\u001b[0m\n",
      "│   └── \u001b[1;36mbar\u001b[0m\n",
      "│       └── \u001b[1;36mmetadata\u001b[0m\n",
      "│           ├── 00000-5165b4bf-26e5-408c-8bd5-197f807bd99a.metadata.json\n",
      "│           ├── 00001-adc05917-c993-45e9-aecf-c0f29199985d.metadata.json\n",
      "│           ├── 611f72cf-6486-430c-bd92-d6691be98c19-m0.avro\n",
      "│           ├── 9d7dfcdd-9b9c-42bb-bf1c-5e764739d20f-m0.avro\n",
      "│           ├── f93f88a8-cbc2-4eda-a882-3b5ffd1c7f93-m0.avro\n",
      "│           ├── snap-1222512222308558805-0-611f72cf-6486-430c-bd92-d6691be98c19.avro\n",
      "│           ├── snap-4992771804060990823-0-f93f88a8-cbc2-4eda-a882-3b5ffd1c7f93.avro\n",
      "│           └── snap-6101942373643664436-0-9d7dfcdd-9b9c-42bb-bf1c-5e764739d20f.avro\n",
      "└── part-00001-05deccb1-8776-4163-8db3-b12499a73057-c000.zstd.parquet\n",
      "\n",
      "5 directories, 21 files\n"
     ]
    }
   ],
   "source": [
    "!tree warehouse"
   ]
  },
  {
   "cell_type": "code",
   "execution_count": 24,
   "id": "f15a4707-05b1-4cc9-88ff-b5c33df43396",
   "metadata": {},
   "outputs": [
    {
     "data": {
      "text/plain": [
       "'\\nResources\\n* Spark rewrite_data_files (https://iceberg.apache.org/docs/nightly/spark-procedures/#rewrite_data_files)\\n* PyIceberg docs (https://py.iceberg.apache.org/)\\n* Delta docs (https://delta-io.github.io/delta-rs/)\\n* PyIceberg repo (https://github.com/apache/iceberg-python)\\n* Delta repo (https://github.com/delta-io/delta-rs)\\n\\n'"
      ]
     },
     "execution_count": 24,
     "metadata": {},
     "output_type": "execute_result"
    }
   ],
   "source": [
    "\"\"\"\n",
    "Resources\n",
    "* Spark rewrite_data_files (https://iceberg.apache.org/docs/nightly/spark-procedures/#rewrite_data_files)\n",
    "* PyIceberg docs (https://py.iceberg.apache.org/)\n",
    "* Delta docs (https://delta-io.github.io/delta-rs/)\n",
    "* PyIceberg repo (https://github.com/apache/iceberg-python)\n",
    "* Delta repo (https://github.com/delta-io/delta-rs)\n",
    "\n",
    "\"\"\""
   ]
  },
  {
   "cell_type": "code",
   "execution_count": null,
   "id": "5db1a1bf-d5e8-4581-96bb-8036b4768f45",
   "metadata": {},
   "outputs": [],
   "source": []
  }
 ],
 "metadata": {
  "kernelspec": {
   "display_name": "Python 3 (ipykernel)",
   "language": "python",
   "name": "python3"
  },
  "language_info": {
   "codemirror_mode": {
    "name": "ipython",
    "version": 3
   },
   "file_extension": ".py",
   "mimetype": "text/x-python",
   "name": "python",
   "nbconvert_exporter": "python",
   "pygments_lexer": "ipython3",
   "version": "3.12.8"
  }
 },
 "nbformat": 4,
 "nbformat_minor": 5
}
